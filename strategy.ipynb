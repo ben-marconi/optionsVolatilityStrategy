{
 "cells": [
  {
   "cell_type": "markdown",
   "id": "3cf15341",
   "metadata": {},
   "source": [
    "## Project Title\n",
    "Project description\n",
    "\n",
    "The notebook is structured as follows:\n",
    "1. \n",
    "\n",
    "## Import Libraries"
   ]
  },
  {
   "cell_type": "code",
   "execution_count": 101,
   "id": "ca13724b",
   "metadata": {},
   "outputs": [],
   "source": [
    "# For data manipulation\n",
    "import numpy as np\n",
    "import pandas as pd\n",
    "from scipy.optimize import minimize\n",
    "\n",
    "# For ignoring warnings\n",
    "import warnings\n",
    "warnings.simplefilter(\"ignore\")\n",
    "\n",
    "# For data visualisation\n",
    "import matplotlib.pyplot as plt\n",
    "\n",
    "# Helper functions\n",
    "import sys\n",
    "sys.path.append(\"..\")"
   ]
  },
  {
   "cell_type": "markdown",
   "id": "ff2688d6",
   "metadata": {},
   "source": [
    "<a id='import'></a>\n",
    "## Import the Data"
   ]
  },
  {
   "cell_type": "code",
   "execution_count": 107,
   "id": "c0f95b13",
   "metadata": {},
   "outputs": [
    {
     "data": {
      "text/html": [
       "<div>\n",
       "<style scoped>\n",
       "    .dataframe tbody tr th:only-of-type {\n",
       "        vertical-align: middle;\n",
       "    }\n",
       "\n",
       "    .dataframe tbody tr th {\n",
       "        vertical-align: top;\n",
       "    }\n",
       "\n",
       "    .dataframe thead th {\n",
       "        text-align: right;\n",
       "    }\n",
       "</style>\n",
       "<table border=\"1\" class=\"dataframe\">\n",
       "  <thead>\n",
       "    <tr style=\"text-align: right;\">\n",
       "      <th></th>\n",
       "      <th>STRIKE</th>\n",
       "      <th>C_IV</th>\n",
       "      <th>P_IV</th>\n",
       "      <th>C_LAST</th>\n",
       "      <th>P_LAST</th>\n",
       "      <th>Open</th>\n",
       "      <th>High</th>\n",
       "      <th>Low</th>\n",
       "      <th>Close</th>\n",
       "    </tr>\n",
       "    <tr>\n",
       "      <th>[QUOTE_DATE]</th>\n",
       "      <th></th>\n",
       "      <th></th>\n",
       "      <th></th>\n",
       "      <th></th>\n",
       "      <th></th>\n",
       "      <th></th>\n",
       "      <th></th>\n",
       "      <th></th>\n",
       "      <th></th>\n",
       "    </tr>\n",
       "  </thead>\n",
       "  <tbody>\n",
       "    <tr>\n",
       "      <th>2018-01-02</th>\n",
       "      <td>2695.0</td>\n",
       "      <td>0.07549</td>\n",
       "      <td>0.06018</td>\n",
       "      <td>19.98</td>\n",
       "      <td>20.10</td>\n",
       "      <td>2683.729980</td>\n",
       "      <td>2695.889893</td>\n",
       "      <td>2682.360107</td>\n",
       "      <td>2695.810059</td>\n",
       "    </tr>\n",
       "    <tr>\n",
       "      <th>2018-01-03</th>\n",
       "      <td>2715.0</td>\n",
       "      <td>0.07249</td>\n",
       "      <td>0.05435</td>\n",
       "      <td>18.13</td>\n",
       "      <td>19.75</td>\n",
       "      <td>2697.850098</td>\n",
       "      <td>2714.370117</td>\n",
       "      <td>2697.770020</td>\n",
       "      <td>2713.060059</td>\n",
       "    </tr>\n",
       "    <tr>\n",
       "      <th>2018-01-04</th>\n",
       "      <td>2725.0</td>\n",
       "      <td>0.06976</td>\n",
       "      <td>0.06254</td>\n",
       "      <td>21.60</td>\n",
       "      <td>19.25</td>\n",
       "      <td>2719.310059</td>\n",
       "      <td>2729.290039</td>\n",
       "      <td>2719.070068</td>\n",
       "      <td>2723.989990</td>\n",
       "    </tr>\n",
       "    <tr>\n",
       "      <th>2018-01-05</th>\n",
       "      <td>2740.0</td>\n",
       "      <td>0.07460</td>\n",
       "      <td>0.06344</td>\n",
       "      <td>22.00</td>\n",
       "      <td>18.68</td>\n",
       "      <td>2731.330078</td>\n",
       "      <td>2743.449951</td>\n",
       "      <td>2727.919922</td>\n",
       "      <td>2743.149902</td>\n",
       "    </tr>\n",
       "    <tr>\n",
       "      <th>2018-01-08</th>\n",
       "      <td>2745.0</td>\n",
       "      <td>0.07366</td>\n",
       "      <td>0.06348</td>\n",
       "      <td>20.49</td>\n",
       "      <td>17.45</td>\n",
       "      <td>2742.669922</td>\n",
       "      <td>2748.510010</td>\n",
       "      <td>2737.600098</td>\n",
       "      <td>2747.709961</td>\n",
       "    </tr>\n",
       "  </tbody>\n",
       "</table>\n",
       "</div>"
      ],
      "text/plain": [
       "               STRIKE     C_IV     P_IV  C_LAST  P_LAST         Open  \\\n",
       " [QUOTE_DATE]                                                          \n",
       "2018-01-02     2695.0  0.07549  0.06018   19.98   20.10  2683.729980   \n",
       "2018-01-03     2715.0  0.07249  0.05435   18.13   19.75  2697.850098   \n",
       "2018-01-04     2725.0  0.06976  0.06254   21.60   19.25  2719.310059   \n",
       "2018-01-05     2740.0  0.07460  0.06344   22.00   18.68  2731.330078   \n",
       "2018-01-08     2745.0  0.07366  0.06348   20.49   17.45  2742.669922   \n",
       "\n",
       "                      High          Low        Close  \n",
       " [QUOTE_DATE]                                         \n",
       "2018-01-02     2695.889893  2682.360107  2695.810059  \n",
       "2018-01-03     2714.370117  2697.770020  2713.060059  \n",
       "2018-01-04     2729.290039  2719.070068  2723.989990  \n",
       "2018-01-05     2743.449951  2727.919922  2743.149902  \n",
       "2018-01-08     2748.510010  2737.600098  2747.709961  "
      ]
     },
     "execution_count": 107,
     "metadata": {},
     "output_type": "execute_result"
    }
   ],
   "source": [
    "# Read the data\n",
    "options_data = pd.read_csv('./data/options_daily_sp500_2018_2022.csv', index_col=0)\n",
    "\n",
    "# Change the index type to datetime\n",
    "options_data.index = pd.to_datetime(options_data.index)\n",
    "\n",
    "# Import the S&P 500 index daily data\n",
    "daily_data_SP500 = pd.read_csv('./data/daily_sp500_2018_2022.csv', index_col=0)\n",
    "\n",
    "# Change the index type to datetime\n",
    "daily_data_SP500.index = pd.to_datetime(daily_data_SP500.index)\n",
    "\n",
    "# Merge both dataframes to include the information of underlying data into options data\n",
    "options_data = options_data.merge(daily_data_SP500[[\n",
    "    'Open', 'High', 'Low', 'Close']], left_index=True, right_index=True, how='left').dropna()\n",
    "\n",
    "# Display the data\n",
    "options_data.head()"
   ]
  },
  {
   "cell_type": "markdown",
   "id": "4c9e9be1",
   "metadata": {},
   "source": [
    "<a id='signals'></a>\n",
    "## Generate Signals\n",
    "In this section a signal is generated at the start of every month, where the forecasted volatility is compared to the implied volatility of options expiring at the end of them. If the forecasted volatility is greater than the implied volatility, a straddle is bought, while if the forecasted volatility is less than the implied volatility, a straddle is bought. \n",
    "\n",
    "### Setup"
   ]
  },
  {
   "cell_type": "markdown",
   "id": "603efca8",
   "metadata": {},
   "source": [
    "## Helper Functions"
   ]
  },
  {
   "cell_type": "code",
   "execution_count": 142,
   "id": "f1c5516a",
   "metadata": {},
   "outputs": [],
   "source": [
    "# Find the likelihood for given parameters\n",
    "def garch_likelihood(params, returns, vol):\n",
    "    gamma = params[0]\n",
    "    alpha = params[1]\n",
    "    beta = params[2]\n",
    "    log_likelihood = 0\n",
    "    for i in range(1, len(returns)):\n",
    "        variance = gamma * vol[0] + alpha * returns[i-1]**2 + beta * vol[i]\n",
    "        log_likelihood -= np.log(variance) + returns[i]**2 / variance\n",
    "    return -log_likelihood\n",
    "\n",
    "\n",
    "initial_params = [0.1, 0.1, 0.1]\n",
    "params_bounds = [(0,1), (0,1), (0,1)]\n",
    "\n",
    "# Find max likelihood parameters\n",
    "def estimate_params(args):\n",
    "    # Define the GARCH(1,1) model's initial parameters and their bounds\n",
    "    result = minimize(garch_likelihood, initial_params, args = args, bounds = params_bounds, method = 'SLSQP')\n",
    "    return result.x\n",
    "\n",
    "def forecast_volatility(params, returns, vol):\n",
    "    gamma = params[0]\n",
    "    alpha = params[1]\n",
    "    beta = params[2]\n",
    "    result = gamma * vol[0] + alpha * returns[-1]**2 + beta * vol[-1]\n",
    "    return result\n"
   ]
  },
  {
   "cell_type": "markdown",
   "id": "a1b443c0",
   "metadata": {},
   "source": [
    "### Backtesting Functions"
   ]
  },
  {
   "cell_type": "code",
   "execution_count": 143,
   "id": "6ccc032e",
   "metadata": {},
   "outputs": [],
   "source": [
    "# Define dataframes to store individual trade details, the tradebook, and the mark to market value of the current position\n",
    "trade_details = pd.DataFrame()\n",
    "trade_book = pd.DataFrame()\n",
    "mark_to_market = pd.DataFrame()\n",
    "\n",
    "# Function to calculate the premium of a straddle\n",
    "def premium(type, data):\n",
    "    if type == 'CE':\n",
    "        return data['C_LAST']\n",
    "    return data['P_LAST']\n",
    "\n",
    "# Function to setup a straddle\n",
    "def new_straddle(data, direction):\n",
    "    straddle = pd.DataFrame()\n",
    "    straddle['option_type'] = ['CE', 'PE']\n",
    "    straddle['strike'] = data.STRIKE\n",
    "    straddle['position'] = 1 if direction == 'long' else -1\n",
    "    straddle['premium'] = straddle.apply(lambda x: premium(x['option_type'], data), axis=1)\n",
    "    return straddle\n",
    "\n",
    "def m_to_m(mark_to_market, strategy, date):\n",
    "    strategy['Date'] = date\n",
    "    mark_to_market = pd.concat([mark_to_market, strategy])\n",
    "    return mark_to_market\n"
   ]
  },
  {
   "cell_type": "code",
   "execution_count": 179,
   "id": "f1caff6e",
   "metadata": {},
   "outputs": [
    {
     "data": {
      "text/html": [
       "<div>\n",
       "<style scoped>\n",
       "    .dataframe tbody tr th:only-of-type {\n",
       "        vertical-align: middle;\n",
       "    }\n",
       "\n",
       "    .dataframe tbody tr th {\n",
       "        vertical-align: top;\n",
       "    }\n",
       "\n",
       "    .dataframe thead th {\n",
       "        text-align: right;\n",
       "    }\n",
       "</style>\n",
       "<table border=\"1\" class=\"dataframe\">\n",
       "  <thead>\n",
       "    <tr style=\"text-align: right;\">\n",
       "      <th></th>\n",
       "      <th>option_type</th>\n",
       "      <th>strike</th>\n",
       "      <th>position</th>\n",
       "      <th>premium</th>\n",
       "    </tr>\n",
       "  </thead>\n",
       "  <tbody>\n",
       "    <tr>\n",
       "      <th>0</th>\n",
       "      <td>CE</td>\n",
       "      <td>4390.0</td>\n",
       "      <td>-1</td>\n",
       "      <td>85.52</td>\n",
       "    </tr>\n",
       "    <tr>\n",
       "      <th>1</th>\n",
       "      <td>PE</td>\n",
       "      <td>4390.0</td>\n",
       "      <td>-1</td>\n",
       "      <td>63.30</td>\n",
       "    </tr>\n",
       "  </tbody>\n",
       "</table>\n",
       "</div>"
      ],
      "text/plain": [
       "  option_type  strike  position  premium\n",
       "0          CE  4390.0        -1    85.52\n",
       "1          PE  4390.0        -1    63.30"
      ]
     },
     "execution_count": 179,
     "metadata": {},
     "output_type": "execute_result"
    }
   ],
   "source": [
    "straddle(options_data.iloc[252*4], 'short')"
   ]
  },
  {
   "cell_type": "markdown",
   "id": "4c9e9be1",
   "metadata": {},
   "source": [
    "<a id='signals'></a>\n",
    "## Generate Signals\n",
    "In this section a signal is generated at the start of every month, where the forecasted volatility is compared to the implied volatility of options expiring at the end of them. If the forecasted volatility is greater than the implied volatility, a straddle is bought, while if the forecasted volatility is less than the implied volatility, a straddle is bought. "
   ]
  },
  {
   "cell_type": "code",
   "execution_count": 165,
   "id": "cd58e709",
   "metadata": {},
   "outputs": [
    {
     "name": "stdout",
     "output_type": "stream",
     "text": [
      "[0.00350117 0.19152429 0.00349314]\n",
      "[0.00354855 0.1983202  0.00354873]\n",
      "[0.00351103 0.18268399 0.00351491]\n",
      "[0.00351709 0.2049588  0.00351693]\n",
      "[0.00350995 0.21578499 0.00351018]\n",
      "[0.00341312 0.18969467 0.00341248]\n",
      "[0.0035642  0.18708944 0.00356309]\n",
      "[0.003786   0.18821412 0.00379404]\n",
      "[0.00947259 0.00841217 0.0094726 ]\n",
      "[0.00367933 0.16812101 0.00368044]\n",
      "[0.003764  0.1781879 0.0037656]\n",
      "[0.00372618 0.17919421 0.00371941]\n",
      "[0.01257687 0.01256904 0.01257687]\n",
      "[0.00385951 0.18275143 0.00385274]\n",
      "[0.00384609 0.17689521 0.00384305]\n",
      "[0.00889588 0.00789839 0.00889583]\n",
      "[0.0037009  0.18004339 0.0037043 ]\n",
      "[0.01264796 0.01262263 0.01264796]\n"
     ]
    },
    {
     "data": {
      "text/plain": [
       "36"
      ]
     },
     "execution_count": 165,
     "metadata": {},
     "output_type": "execute_result"
    }
   ],
   "source": [
    "# Run the strategy for the last year of data and generate a signal every 5 days\n",
    "last_year = options_data[252*4:]\n",
    "last_signal = 5\n",
    "# Create a column to store signals\n",
    "options_data['signal'] = 0\n",
    "# Dictionary used to specify which aggregate function to apply to columns when changing from daily data to monthly data\n",
    "columns_functions ={\n",
    "    'Open': 'first',\n",
    "    'Close': 'last',\n",
    "    'High': 'max',\n",
    "    'Low': 'min'\n",
    "}\n",
    "\n",
    "for date in last_year.index:\n",
    "    if last_signal >= 5:\n",
    "        # We will be using data from the last 4 years to forecast volatility\n",
    "        data = options_data[:date][-252*4:]\n",
    "        data.index = pd.to_datetime(data.index)\n",
    "        # Convert into monthly data to calculate monthly volatility\n",
    "        monthly_data = data.resample('M').agg(columns_functions).dropna()\n",
    "        # Estimate the volatility using the three different estimators\n",
    "        \n",
    "        # Close to Close volatility\n",
    "        monthly_returns = np.log(monthly_data['Close']/monthly_data['Close'].shift(1)).dropna()\n",
    "        monthly_data['c_to_c'] = monthly_returns.std()\n",
    "        \n",
    "        # Parkinson\n",
    "        high_low = np.log(monthly_data['High']/monthly_data['Low'])\n",
    "        monthly_data['parkinson'] = np.sqrt((1/(4*np.log(2)))*(high_low**2).sum())\n",
    "        \n",
    "        # Garman-Klass\n",
    "        monthly_data['garman_klass'] = np.sqrt((0.5)*((high_low**2).sum()) - (((2 * np.log(2))-1)*(monthly_returns**2).sum()))\n",
    "\n",
    "        # Average Volatility\n",
    "        avg_vol = (monthly_data['garman_klass'] + monthly_data['parkinson'] + monthly_data['c_to_c']) / 3\n",
    "        # Estimate GARCH(1,1) model parametrs using max likelihood estimation and forecast volatility\n",
    "        parameters = estimate_params((monthly_returns, avg_vol))\n",
    "        print(parameters)\n",
    "        forecasted_volatility = forecast_volatility(parameters, monthly_returns, avg_vol)\n",
    "        # Compare with implied volatility\n",
    "        if forecasted_volatility*100 > options_data.loc[date].C_IV and forecasted_volatility*100 > options_data.loc[date].P_IV:\n",
    "            # Set signal for the following 5 trading sessions or days????\n",
    "            options_data.loc[date:date+pd.DateOffset(days = 4), 'signal'] = 1\n",
    "            last_signal = 0\n",
    "        elif forecasted_volatility*100 < options_data.loc[date].C_IV and forecasted_volatility*100 < options_data.loc[date].P_IV:\n",
    "            # Set signal for the following 5 trading sessions or days????\n",
    "            options_data.loc[date:date+pd.DateOffset(days = 4), 'signal'] = -1\n",
    "            last_signal = 0\n",
    "    else:\n",
    "        last_signal += 1\n",
    "options_data[252*4:].signal.sum()"
   ]
  },
  {
   "cell_type": "code",
   "execution_count": 162,
   "id": "faf86f51",
   "metadata": {},
   "outputs": [
    {
     "data": {
      "text/plain": [
       " [QUOTE_DATE]\n",
       "2022-09-01    1\n",
       "2022-09-02    1\n",
       "Name: signal, dtype: int64"
      ]
     },
     "execution_count": 162,
     "metadata": {},
     "output_type": "execute_result"
    }
   ],
   "source": [
    "options_data.loc[pd.to_datetime(\"2022-09-01\"):pd.to_datetime(\"2022-09-01\")+pd.DateOffset(days = 4), 'signal']"
   ]
  },
  {
   "cell_type": "markdown",
   "id": "1c64a93d",
   "metadata": {},
   "source": [
    "## Backtest\n"
   ]
  },
  {
   "cell_type": "code",
   "execution_count": 176,
   "id": "ed8fb94c",
   "metadata": {},
   "outputs": [],
   "source": [
    "current_position = 0\n",
    "exit = False\n",
    "backtest_data = options_data[\"signal\"].copy()\n",
    "backtest_data.pnl = 0\n",
    "\n",
    "for date, signal in backtest_data.items():\n",
    "    if current_position == 0:\n",
    "        if signal == 1:\n",
    "            straddle = new_straddle(options_data[date], 'long')\n",
    "            entry_price = round((straddle['premium']*straddle['position']).sum(), 2)\n",
    "            "
   ]
  },
  {
   "cell_type": "markdown",
   "id": "4340104b",
   "metadata": {},
   "source": [
    "<a id='analytics'></a>\n",
    "## Trade Level Analytics"
   ]
  },
  {
   "cell_type": "code",
   "execution_count": null,
   "id": "6ba3099f",
   "metadata": {},
   "outputs": [],
   "source": []
  }
 ],
 "metadata": {
  "kernelspec": {
   "display_name": "Python 3 (ipykernel)",
   "language": "python",
   "name": "python3"
  },
  "language_info": {
   "codemirror_mode": {
    "name": "ipython",
    "version": 3
   },
   "file_extension": ".py",
   "mimetype": "text/x-python",
   "name": "python",
   "nbconvert_exporter": "python",
   "pygments_lexer": "ipython3",
   "version": "3.9.5"
  }
 },
 "nbformat": 4,
 "nbformat_minor": 5
}
