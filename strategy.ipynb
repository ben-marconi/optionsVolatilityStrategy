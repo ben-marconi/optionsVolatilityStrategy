{
 "cells": [
  {
   "cell_type": "markdown",
   "id": "3cf15341",
   "metadata": {},
   "source": [
    "## Project Title\n",
    "Project description\n",
    "\n",
    "The notebook is structured as follows:\n",
    "1. [Import the Data](#import)\n",
    "2. [Generate Signals](#signals)\n",
    "3. [Backtesting](#backtest)\n",
    "4. [Trade Level Analytics](#analytics)\n",
    "\n",
    "## Import Libraries"
   ]
  },
  {
   "cell_type": "code",
   "execution_count": 1,
   "id": "ca13724b",
   "metadata": {},
   "outputs": [],
   "source": [
    "# For data manipulation\n",
    "import numpy as np\n",
    "import pandas as pd\n",
    "from scipy.optimize import minimize\n",
    "\n",
    "# For ignoring warnings\n",
    "import warnings\n",
    "warnings.simplefilter(\"ignore\")\n",
    "\n",
    "# For data visualisation\n",
    "import matplotlib.pyplot as plt\n",
    "\n",
    "# Helper functions\n",
    "import sys\n",
    "sys.path.append(\"..\")\n",
    "from data_modules.options_volatility_utils import garch_likelihood, forecast_volatility, trade_level_analytics"
   ]
  },
  {
   "cell_type": "markdown",
   "id": "ff2688d6",
   "metadata": {},
   "source": [
    "<a id='import'></a>\n",
    "## Import the Data"
   ]
  },
  {
   "cell_type": "code",
   "execution_count": 2,
   "id": "c0f95b13",
   "metadata": {},
   "outputs": [
    {
     "data": {
      "text/html": [
       "<div>\n",
       "<style scoped>\n",
       "    .dataframe tbody tr th:only-of-type {\n",
       "        vertical-align: middle;\n",
       "    }\n",
       "\n",
       "    .dataframe tbody tr th {\n",
       "        vertical-align: top;\n",
       "    }\n",
       "\n",
       "    .dataframe thead th {\n",
       "        text-align: right;\n",
       "    }\n",
       "</style>\n",
       "<table border=\"1\" class=\"dataframe\">\n",
       "  <thead>\n",
       "    <tr style=\"text-align: right;\">\n",
       "      <th></th>\n",
       "      <th>STRIKE</th>\n",
       "      <th>C_IV</th>\n",
       "      <th>P_IV</th>\n",
       "      <th>C_LAST</th>\n",
       "      <th>P_LAST</th>\n",
       "      <th>Open</th>\n",
       "      <th>High</th>\n",
       "      <th>Low</th>\n",
       "      <th>Close</th>\n",
       "    </tr>\n",
       "    <tr>\n",
       "      <th>[QUOTE_DATE]</th>\n",
       "      <th></th>\n",
       "      <th></th>\n",
       "      <th></th>\n",
       "      <th></th>\n",
       "      <th></th>\n",
       "      <th></th>\n",
       "      <th></th>\n",
       "      <th></th>\n",
       "      <th></th>\n",
       "    </tr>\n",
       "  </thead>\n",
       "  <tbody>\n",
       "    <tr>\n",
       "      <th>2022-09-23</th>\n",
       "      <td>3695.0</td>\n",
       "      <td>0.27027</td>\n",
       "      <td>0.28858</td>\n",
       "      <td>57.8</td>\n",
       "      <td>66.68</td>\n",
       "      <td>3727.139893</td>\n",
       "      <td>3727.139893</td>\n",
       "      <td>3647.469971</td>\n",
       "      <td>3693.229980</td>\n",
       "    </tr>\n",
       "    <tr>\n",
       "      <th>2022-09-26</th>\n",
       "      <td>3655.0</td>\n",
       "      <td>0.34644</td>\n",
       "      <td>0.34657</td>\n",
       "      <td>64.9</td>\n",
       "      <td>52.00</td>\n",
       "      <td>3682.719971</td>\n",
       "      <td>3715.669922</td>\n",
       "      <td>3644.760010</td>\n",
       "      <td>3655.040039</td>\n",
       "    </tr>\n",
       "    <tr>\n",
       "      <th>2022-09-27</th>\n",
       "      <td>3650.0</td>\n",
       "      <td>0.32786</td>\n",
       "      <td>0.33897</td>\n",
       "      <td>48.0</td>\n",
       "      <td>47.66</td>\n",
       "      <td>3686.439941</td>\n",
       "      <td>3717.530029</td>\n",
       "      <td>3623.290039</td>\n",
       "      <td>3647.290039</td>\n",
       "    </tr>\n",
       "    <tr>\n",
       "      <th>2022-09-28</th>\n",
       "      <td>3720.0</td>\n",
       "      <td>0.31591</td>\n",
       "      <td>0.27130</td>\n",
       "      <td>40.1</td>\n",
       "      <td>31.90</td>\n",
       "      <td>3651.939941</td>\n",
       "      <td>3736.739990</td>\n",
       "      <td>3640.610107</td>\n",
       "      <td>3719.040039</td>\n",
       "    </tr>\n",
       "    <tr>\n",
       "      <th>2022-09-29</th>\n",
       "      <td>3640.0</td>\n",
       "      <td>0.30883</td>\n",
       "      <td>0.30141</td>\n",
       "      <td>33.8</td>\n",
       "      <td>28.20</td>\n",
       "      <td>3687.010010</td>\n",
       "      <td>3687.010010</td>\n",
       "      <td>3610.399902</td>\n",
       "      <td>3640.469971</td>\n",
       "    </tr>\n",
       "  </tbody>\n",
       "</table>\n",
       "</div>"
      ],
      "text/plain": [
       "               STRIKE     C_IV     P_IV  C_LAST  P_LAST         Open  \\\n",
       " [QUOTE_DATE]                                                          \n",
       "2022-09-23     3695.0  0.27027  0.28858    57.8   66.68  3727.139893   \n",
       "2022-09-26     3655.0  0.34644  0.34657    64.9   52.00  3682.719971   \n",
       "2022-09-27     3650.0  0.32786  0.33897    48.0   47.66  3686.439941   \n",
       "2022-09-28     3720.0  0.31591  0.27130    40.1   31.90  3651.939941   \n",
       "2022-09-29     3640.0  0.30883  0.30141    33.8   28.20  3687.010010   \n",
       "\n",
       "                      High          Low        Close  \n",
       " [QUOTE_DATE]                                         \n",
       "2022-09-23     3727.139893  3647.469971  3693.229980  \n",
       "2022-09-26     3715.669922  3644.760010  3655.040039  \n",
       "2022-09-27     3717.530029  3623.290039  3647.290039  \n",
       "2022-09-28     3736.739990  3640.610107  3719.040039  \n",
       "2022-09-29     3687.010010  3610.399902  3640.469971  "
      ]
     },
     "execution_count": 2,
     "metadata": {},
     "output_type": "execute_result"
    }
   ],
   "source": [
    "# Read the data\n",
    "options_data = pd.read_csv('../data_modules/options_daily_sp500_2018_2022.csv', index_col=0)\n",
    "\n",
    "# Change the index type to datetime\n",
    "options_data.index = pd.to_datetime(options_data.index)\n",
    "\n",
    "# Import the S&P 500 index daily data\n",
    "daily_data_SP500 = pd.read_csv('../data_modules/daily_sp500_2018_2022.csv', index_col=0)\n",
    "\n",
    "# Change the index type to datetime\n",
    "daily_data_SP500.index = pd.to_datetime(daily_data_SP500.index)\n",
    "\n",
    "# Merge both dataframes to include the information of underlying data into options data\n",
    "options_data = options_data.merge(daily_data_SP500[[\n",
    "    'Open', 'High', 'Low', 'Close']], left_index=True, right_index=True, how='left').dropna()\n",
    "\n",
    "# Display the data\n",
    "options_data.tail()"
   ]
  },
  {
   "cell_type": "markdown",
   "id": "4c9e9be1",
   "metadata": {},
   "source": [
    "<a id='signals'></a>\n",
    "## Generate Signals"
   ]
  },
  {
   "cell_type": "code",
   "execution_count": 3,
   "id": "cd58e709",
   "metadata": {},
   "outputs": [
    {
     "data": {
      "text/plain": [
       "'\"\\nGenerate Trading Signals\\n'"
      ]
     },
     "execution_count": 3,
     "metadata": {},
     "output_type": "execute_result"
    }
   ],
   "source": []
  },
  {
   "cell_type": "markdown",
   "id": "7d10bb8f",
   "metadata": {},
   "source": [
    "<a id='backtest'></a>\n",
    "## Backtesting"
   ]
  },
  {
   "cell_type": "code",
   "execution_count": 4,
   "id": "3eca6125",
   "metadata": {},
   "outputs": [
    {
     "data": {
      "text/plain": [
       "'\\nBacktest your strategy\\n'"
      ]
     },
     "execution_count": 4,
     "metadata": {},
     "output_type": "execute_result"
    }
   ],
   "source": []
  },
  {
   "cell_type": "markdown",
   "id": "4340104b",
   "metadata": {},
   "source": [
    "<a id='analytics'></a>\n",
    "## Trade Level Analytics"
   ]
  },
  {
   "cell_type": "code",
   "execution_count": 5,
   "id": "6ba3099f",
   "metadata": {},
   "outputs": [
    {
     "data": {
      "text/plain": [
       "'\\nTrade Level Analytics\\n'"
      ]
     },
     "execution_count": 5,
     "metadata": {},
     "output_type": "execute_result"
    }
   ],
   "source": []
  }
 ],
 "metadata": {
  "kernelspec": {
   "display_name": "Python 3 (ipykernel)",
   "language": "python",
   "name": "python3"
  },
  "language_info": {
   "codemirror_mode": {
    "name": "ipython",
    "version": 3
   },
   "file_extension": ".py",
   "mimetype": "text/x-python",
   "name": "python",
   "nbconvert_exporter": "python",
   "pygments_lexer": "ipython3",
   "version": "3.9.5"
  }
 },
 "nbformat": 4,
 "nbformat_minor": 5
}
